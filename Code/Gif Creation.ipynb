{
 "cells": [
  {
   "cell_type": "code",
   "execution_count": 12,
   "metadata": {},
   "outputs": [],
   "source": [
    "import pandas as pd\n",
    "import numpy as np\n",
    "import matplotlib.pyplot as plt\n",
    "from sklearn.decomposition import PCA\n",
    "import imageio\n",
    "import os\n",
    "url = 'https://raw.githubusercontent.com/DanChitwood/grapevine_shoots/master/Datasets/Procrustes_all.csv'\n",
    "df = pd.read_csv(url)"
   ]
  },
  {
   "cell_type": "code",
   "execution_count": 13,
   "metadata": {},
   "outputs": [],
   "source": [
    "raw_data=pd.DataFrame(df).to_numpy()\n",
    "raw_data_clean=np.delete(raw_data,[range(0,50)],1)"
   ]
  },
  {
   "cell_type": "code",
   "execution_count": 14,
   "metadata": {},
   "outputs": [],
   "source": [
    "pca=PCA(n_components=2)\n",
    "\n",
    "PCs = pca.fit_transform(raw_data_clean)"
   ]
  },
  {
   "cell_type": "code",
   "execution_count": 15,
   "metadata": {},
   "outputs": [],
   "source": [
    "inverse_PCA = pca.inverse_transform(PCs)"
   ]
  },
  {
   "cell_type": "code",
   "execution_count": 16,
   "metadata": {},
   "outputs": [],
   "source": [
    "def shape_plot(values, col, color1, color2, figsize):\n",
    "    \n",
    "    plt.figure(figsize = (figsize,figsize))\n",
    "    \n",
    "    plt.plot([values[col,26],values[col,28]],[values[col,27],values[col,29]], color = color1)\n",
    "    plt.plot([values[col,28],values[col,30]],[values[col,29],values[col,31]], color = color1)\n",
    "    plt.plot([values[col,30],values[col,32]],[values[col,31],values[col,33]], color = color1)\n",
    "    plt.plot([values[col,32],values[col,34]],[values[col,33],values[col,35]], color = color1)\n",
    "    plt.plot([values[col,34],values[col,36]],[values[col,35],values[col,37]], color = color1)\n",
    "    plt.plot([values[col,36],values[col,38]],[values[col,37],values[col,39]], color = color1)\n",
    "    plt.plot([values[col,38],values[col,40]],[values[col,39],values[col,41]], color = color1)\n",
    "    \n",
    "    \n",
    "    plt.plot([values[col,0],values[col,10]],[values[col,1],values[col,11]], color = color2)\n",
    "    plt.plot([values[col,10],values[col,26]],[values[col,11],values[col,27]], color = color2)\n",
    "    plt.plot([values[col,26],values[col,8]],[values[col,27],values[col,9]], color = color2)\n",
    "    plt.plot([values[col,8],values[col,28]],[values[col,9],values[col,29]], color = color2)\n",
    "    plt.plot([values[col,28],values[col,12]],[values[col,29],values[col,13]], color = color2)\n",
    "    plt.plot([values[col,12],values[col,2]],[values[col,13],values[col,3]], color = color2)\n",
    "    plt.plot([values[col,2],values[col,16]],[values[col,3],values[col,17]], color = color2)\n",
    "    plt.plot([values[col,16],values[col,32]],[values[col,17],values[col,33]], color = color2)\n",
    "    plt.plot([values[col,32],values[col,14]],[values[col,33],values[col,15]], color = color2)\n",
    "    plt.plot([values[col,14],values[col,34]],[values[col,15],values[col,35]], color = color2)\n",
    "    plt.plot([values[col,34],values[col,18]],[values[col,35],values[col,19]], color = color2)\n",
    "    plt.plot([values[col,18],values[col,4]],[values[col,19],values[col,5]], color = color2)\n",
    "    plt.plot([values[col,4],values[col,22]],[values[col,5],values[col,23]], color = color2)\n",
    "    plt.plot([values[col,22],values[col,38]],[values[col,23],values[col,39]], color = color2)\n",
    "    plt.plot([values[col,38],values[col,20]],[values[col,39],values[col,21]], color = color2)\n",
    "    plt.plot([values[col,20],values[col,40]],[values[col,21],values[col,41]], color = color2)\n",
    "    plt.plot([values[col,40],values[col,24]],[values[col,41],values[col,25]], color = color2)\n",
    "    plt.plot([values[col,24],values[col,6]],[values[col,25],values[col,7]], color = color2)"
   ]
  },
  {
   "cell_type": "code",
   "execution_count": 17,
   "metadata": {},
   "outputs": [],
   "source": [
    "young_PC1 = []\n",
    "young_PC2 = []\n",
    "old_PC1 = []\n",
    "old_PC2 = []\n",
    "for i in range(len(PCs)):\n",
    "\n",
    "    if raw_data[i,7] == 0.1:\n",
    "        young_PC1.append(PCs[i,0])\n",
    "        young_PC2.append(PCs[i,1])\n",
    "    elif raw_data[i,7] == 1.0:\n",
    "        old_PC1.append(PCs[i,0])\n",
    "        old_PC2.append(PCs[i,1])  \n",
    "    else:\n",
    "        pass\n",
    "\n",
    "young_PC1_avg = np.mean(young_PC1)\n",
    "young_PC2_avg = np.mean(young_PC2)\n",
    "old_PC1_avg = np.mean(old_PC1)\n",
    "old_PC2_avg = np.mean(old_PC2)\n",
    "\n",
    "PC1_points = [young_PC1_avg, old_PC1_avg]\n",
    "PC2_points = [young_PC2_avg, old_PC2_avg]"
   ]
  },
  {
   "cell_type": "code",
   "execution_count": 18,
   "metadata": {},
   "outputs": [],
   "source": [
    "coefficients = np.polyfit(PC1_points,PC2_points,1)\n",
    "line = np.poly1d(coefficients)\n",
    "x_axis = np.linspace(-1600,1600,100)\n",
    "y_axis = line(x_axis)"
   ]
  },
  {
   "cell_type": "code",
   "execution_count": 19,
   "metadata": {},
   "outputs": [],
   "source": [
    "pca_list_x = []\n",
    "pca_list_y = []\n",
    "x_pca = -1600\n",
    "for i in range(200):\n",
    "    y_pca = line(x_pca)\n",
    "    pca_list_x.append(x_pca)\n",
    "    pca_list_y.append(y_pca)\n",
    "\n",
    "    x_pca += 16"
   ]
  },
  {
   "cell_type": "code",
   "execution_count": 20,
   "metadata": {},
   "outputs": [],
   "source": [
    "pca_array = np.column_stack((pca_list_x, pca_list_y))\n",
    "\n",
    "inv_new = pca.inverse_transform(pca_array)"
   ]
  },
  {
   "cell_type": "code",
   "execution_count": 21,
   "metadata": {},
   "outputs": [],
   "source": [
    "filenames = []\n",
    "for i in range(len(inv_new)):\n",
    "    shape_plot(inv_new, i, 'green', 'orange' ,figsize = 5)\n",
    "    filename = f'{i}.png'\n",
    "    filenames.append(filename)\n",
    "    \n",
    "    plt.savefig(filename)\n",
    "    plt.close()"
   ]
  },
  {
   "cell_type": "code",
   "execution_count": 22,
   "metadata": {},
   "outputs": [],
   "source": [
    "with imageio.get_writer('mygif.gif', mode='I') as writer:\n",
    "    for filename in filenames:\n",
    "        image = imageio.imread(filename)\n",
    "        writer.append_data(image)\n",
    "\n",
    "for filename in set(filenames):\n",
    "    os.remove(filename)"
   ]
  }
 ],
 "metadata": {
  "kernelspec": {
   "display_name": "Python 3",
   "language": "python",
   "name": "python3"
  },
  "language_info": {
   "codemirror_mode": {
    "name": "ipython",
    "version": 3
   },
   "file_extension": ".py",
   "mimetype": "text/x-python",
   "name": "python",
   "nbconvert_exporter": "python",
   "pygments_lexer": "ipython3",
   "version": "3.7.4"
  }
 },
 "nbformat": 4,
 "nbformat_minor": 2
}
